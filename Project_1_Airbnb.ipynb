{
 "cells": [
  {
   "cell_type": "code",
   "execution_count": 60,
   "metadata": {},
   "outputs": [],
   "source": [
    "#--------Imports -------------------------\n",
    "import numpy as np\n",
    "import matplotlib.pyplot as plt\n",
    "import pandas as pd"
   ]
  },
  {
   "cell_type": "code",
   "execution_count": 126,
   "metadata": {},
   "outputs": [],
   "source": [
    "#-------Load data and dig into it---------------\n",
    "\n",
    "df_S_reviews = pd.read_csv('data_seattle/reviews.csv')\n",
    "df_S_listing = pd.read_csv('data_seattle/listings.csv')\n",
    "df_B_reviews = pd.read_csv('data_boston/reviews.csv')\n",
    "df_B_listing = pd.read_csv('data_boston/listings.csv')\n",
    "\n"
   ]
  },
  {
   "cell_type": "code",
   "execution_count": 62,
   "metadata": {},
   "outputs": [],
   "source": [
    "df_S_reviewScores = df_S_listing.iloc[:,76:83]\n",
    "df_B_reviewScores = df_B_listing.iloc[:,79:86]"
   ]
  },
  {
   "cell_type": "code",
   "execution_count": 63,
   "metadata": {},
   "outputs": [
    {
     "data": {
      "text/plain": [
       "0.2295676429567643"
      ]
     },
     "execution_count": 63,
     "metadata": {},
     "output_type": "execute_result"
    }
   ],
   "source": [
    "max(df_B_reviewScores.isna().sum())/df_B_reviewScores.shape[0]"
   ]
  },
  {
   "cell_type": "code",
   "execution_count": 64,
   "metadata": {},
   "outputs": [
    {
     "data": {
      "text/plain": [
       "review_scores_rating           647\n",
       "review_scores_accuracy         658\n",
       "review_scores_cleanliness      653\n",
       "review_scores_checkin          658\n",
       "review_scores_communication    651\n",
       "review_scores_location         655\n",
       "review_scores_value            656\n",
       "dtype: int64"
      ]
     },
     "execution_count": 64,
     "metadata": {},
     "output_type": "execute_result"
    }
   ],
   "source": [
    "df_S_reviewScores.isna().sum()"
   ]
  },
  {
   "cell_type": "code",
   "execution_count": 65,
   "metadata": {},
   "outputs": [
    {
     "data": {
      "text/plain": [
       "0.17234154007333682"
      ]
     },
     "execution_count": 65,
     "metadata": {},
     "output_type": "execute_result"
    }
   ],
   "source": [
    "max(df_S_reviewScores.isna().sum())/df_S_reviewScores.shape[0]"
   ]
  },
  {
   "cell_type": "code",
   "execution_count": 66,
   "metadata": {},
   "outputs": [],
   "source": [
    "#------------Check means of review scores ---------------------------------\n",
    "means_S = df_S_reviewScores.mean(axis=0)\n",
    "means_B = df_B_reviewScores.mean(axis=0)"
   ]
  },
  {
   "cell_type": "code",
   "execution_count": 67,
   "metadata": {},
   "outputs": [
    {
     "data": {
      "text/plain": [
       "review_scores_rating           91.916667\n",
       "review_scores_accuracy          9.431571\n",
       "review_scores_cleanliness       9.258041\n",
       "review_scores_checkin           9.646293\n",
       "review_scores_communication     9.646549\n",
       "review_scores_location          9.414043\n",
       "review_scores_value             9.168234\n",
       "dtype: float64"
      ]
     },
     "execution_count": 67,
     "metadata": {},
     "output_type": "execute_result"
    }
   ],
   "source": [
    "means_B"
   ]
  },
  {
   "cell_type": "code",
   "execution_count": 68,
   "metadata": {},
   "outputs": [
    {
     "data": {
      "text/plain": [
       "review_scores_rating           94.539262\n",
       "review_scores_accuracy          9.636392\n",
       "review_scores_cleanliness       9.556398\n",
       "review_scores_checkin           9.786709\n",
       "review_scores_communication     9.809599\n",
       "review_scores_location          9.608916\n",
       "review_scores_value             9.452245\n",
       "dtype: float64"
      ]
     },
     "execution_count": 68,
     "metadata": {},
     "output_type": "execute_result"
    }
   ],
   "source": [
    "means_S"
   ]
  },
  {
   "cell_type": "code",
   "execution_count": 239,
   "metadata": {},
   "outputs": [],
   "source": [
    "def split_categorical_variables(row, list_all_categorical, column_name):\n",
    "    '''\n",
    "    Function to use in apply for dividing the categorical variables\n",
    "    '''\n",
    "    cat_values = np.zeros(len(list_all_categorical))\n",
    "    for i, category in enumerate(list_all_categorical):\n",
    "        if category in row[column_name]:\n",
    "            cat_values[i] = 1\n",
    "    return np.asarray(cat_values, dtype = 'int')\n",
    "    \n",
    "    "
   ]
  },
  {
   "cell_type": "code",
   "execution_count": 280,
   "metadata": {},
   "outputs": [],
   "source": [
    "# -----------Check how some amenities influence the price -------------------------\n",
    "# Select amenities and price from both datasets to have more data. Drop rows with missing price values\n",
    "df = pd.concat([df_S_listing[['amenities', 'price']], df_B_listing[['amenities', 'price']]], axis=0, ignore_index=True)\n",
    "df = df.dropna(subset=['price'], axis=0)\n",
    "df['amenities'] = df['amenities'].apply(lambda row : row[1:-1].replace('\"', '').split(','))\n",
    "\n",
    "\n",
    "list_features = np.unique(np.concatenate(df['amenities'].values))\n",
    "mask = np.where(list_features != '')[0]\n",
    "list_features = list_features[mask]\n",
    "\n",
    "df[list_features] = df_cat.apply(split_categorical_variables, axis=1, args=(list_features, 'amenities'), result_type='expand')\n",
    "df['price'] = df['price'].apply(lambda row : float(row.replace('$','').replace(',', '')))\n",
    "\n",
    "y = df['price']\n",
    "X = df[list_features]\n",
    "\n"
   ]
  },
  {
   "cell_type": "code",
   "execution_count": 52,
   "metadata": {},
   "outputs": [],
   "source": [
    "list_features = np.unique(np.concatenate(df_S_listing['amenities'].values))\n",
    "mask = np.where(list_features != '')[0]\n",
    "list_features = list_features[mask]"
   ]
  },
  {
   "cell_type": "code",
   "execution_count": 20,
   "metadata": {},
   "outputs": [
    {
     "ename": "NameError",
     "evalue": "name 'Lst' is not defined",
     "output_type": "error",
     "traceback": [
      "\u001b[0;31m---------------------------------------------------------------------------\u001b[0m",
      "\u001b[0;31mNameError\u001b[0m                                 Traceback (most recent call last)",
      "\u001b[0;32m<ipython-input-20-f8564c85d687>\u001b[0m in \u001b[0;36m<module>\u001b[0;34m\u001b[0m\n\u001b[0;32m----> 1\u001b[0;31m \u001b[0mdf_S_listing\u001b[0m\u001b[0;34m.\u001b[0m\u001b[0mamenities\u001b[0m\u001b[0;34m.\u001b[0m\u001b[0mstr\u001b[0m\u001b[0;34m.\u001b[0m\u001b[0mfindall\u001b[0m\u001b[0;34m(\u001b[0m\u001b[0;34m'|'\u001b[0m\u001b[0;34m.\u001b[0m\u001b[0mjoin\u001b[0m\u001b[0;34m(\u001b[0m\u001b[0mLst\u001b[0m\u001b[0;34m)\u001b[0m\u001b[0;34m)\u001b[0m\u001b[0;34m\u001b[0m\u001b[0;34m\u001b[0m\u001b[0m\n\u001b[0m",
      "\u001b[0;31mNameError\u001b[0m: name 'Lst' is not defined"
     ]
    }
   ],
   "source": [
    "df_S_listing.amenities.str.findall('|'.join(Lst))"
   ]
  },
  {
   "cell_type": "code",
   "execution_count": null,
   "metadata": {},
   "outputs": [],
   "source": []
  }
 ],
 "metadata": {
  "kernelspec": {
   "display_name": "Python 3",
   "language": "python",
   "name": "python3"
  },
  "language_info": {
   "codemirror_mode": {
    "name": "ipython",
    "version": 3
   },
   "file_extension": ".py",
   "mimetype": "text/x-python",
   "name": "python",
   "nbconvert_exporter": "python",
   "pygments_lexer": "ipython3",
   "version": "3.8.10"
  }
 },
 "nbformat": 4,
 "nbformat_minor": 4
}
